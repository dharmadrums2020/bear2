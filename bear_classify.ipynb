{
 "cells": [
  {
   "cell_type": "code",
   "execution_count": 3,
   "id": "251b2634-179f-4d7c-bba3-e89818c29b40",
   "metadata": {},
   "outputs": [],
   "source": [
    "#hide\n",
    "! [ -e /content ] && pip install -Uqq fastbook\n",
    "import fastbook\n",
    "fastbook.setup_book()"
   ]
  },
  {
   "cell_type": "code",
   "execution_count": 4,
   "id": "8495b701-d631-4f52-8084-8e14a2e4f9b3",
   "metadata": {},
   "outputs": [],
   "source": [
    "#hide\n",
    "from fastbook import *\n",
    "from fastai.vision.widgets import *"
   ]
  },
  {
   "cell_type": "code",
   "execution_count": 1,
   "id": "d101f9c6-78f6-4456-b3c2-471c7766a4a3",
   "metadata": {},
   "outputs": [
    {
     "name": "stdout",
     "output_type": "stream",
     "text": [
      "Requirement already satisfied: voila in /root/mambaforge/lib/python3.9/site-packages (0.3.6)\n",
      "Requirement already satisfied: jupyterlab-server<3,>=2.3.0 in /root/mambaforge/lib/python3.9/site-packages (from voila) (2.14.0)\n",
      "Requirement already satisfied: websockets>=9.0 in /root/mambaforge/lib/python3.9/site-packages (from voila) (10.3)\n",
      "Requirement already satisfied: jupyter-client<8,>=6.1.3 in /root/mambaforge/lib/python3.9/site-packages (from voila) (7.3.4)\n",
      "Requirement already satisfied: jupyter-core>=4.11.0 in /root/mambaforge/lib/python3.9/site-packages (from voila) (4.11.1)\n",
      "Requirement already satisfied: nbclient<0.6,>=0.4.0 in /root/mambaforge/lib/python3.9/site-packages (from voila) (0.5.13)\n",
      "Requirement already satisfied: jupyter-server<2.0.0,>=1.18 in /root/mambaforge/lib/python3.9/site-packages (from voila) (1.18.0)\n",
      "Requirement already satisfied: nbconvert<7,>=6.4.5 in /root/mambaforge/lib/python3.9/site-packages (from voila) (6.5.0)\n",
      "Requirement already satisfied: traitlets<6,>=5.0.3 in /root/mambaforge/lib/python3.9/site-packages (from voila) (5.3.0)\n",
      "Requirement already satisfied: nest-asyncio>=1.5.4 in /root/mambaforge/lib/python3.9/site-packages (from jupyter-client<8,>=6.1.3->voila) (1.5.5)\n",
      "Requirement already satisfied: tornado>=6.0 in /root/mambaforge/lib/python3.9/site-packages (from jupyter-client<8,>=6.1.3->voila) (6.1)\n",
      "Requirement already satisfied: pyzmq>=23.0 in /root/mambaforge/lib/python3.9/site-packages (from jupyter-client<8,>=6.1.3->voila) (23.2.0)\n",
      "Requirement already satisfied: python-dateutil>=2.8.2 in /root/mambaforge/lib/python3.9/site-packages (from jupyter-client<8,>=6.1.3->voila) (2.8.2)\n",
      "Requirement already satisfied: entrypoints in /root/mambaforge/lib/python3.9/site-packages (from jupyter-client<8,>=6.1.3->voila) (0.4)\n",
      "Requirement already satisfied: terminado>=0.8.3 in /root/mambaforge/lib/python3.9/site-packages (from jupyter-server<2.0.0,>=1.18->voila) (0.15.0)\n",
      "Requirement already satisfied: prometheus-client in /root/mambaforge/lib/python3.9/site-packages (from jupyter-server<2.0.0,>=1.18->voila) (0.9.0)\n",
      "Requirement already satisfied: jinja2 in /root/mambaforge/lib/python3.9/site-packages (from jupyter-server<2.0.0,>=1.18->voila) (3.1.2)\n",
      "Requirement already satisfied: packaging in /root/mambaforge/lib/python3.9/site-packages (from jupyter-server<2.0.0,>=1.18->voila) (21.3)\n",
      "Requirement already satisfied: anyio<4,>=3.1.0 in /root/mambaforge/lib/python3.9/site-packages (from jupyter-server<2.0.0,>=1.18->voila) (3.6.1)\n",
      "Requirement already satisfied: Send2Trash in /root/mambaforge/lib/python3.9/site-packages (from jupyter-server<2.0.0,>=1.18->voila) (1.8.0)\n",
      "Requirement already satisfied: argon2-cffi in /root/mambaforge/lib/python3.9/site-packages (from jupyter-server<2.0.0,>=1.18->voila) (21.3.0)\n",
      "Requirement already satisfied: nbformat>=5.2.0 in /root/mambaforge/lib/python3.9/site-packages (from jupyter-server<2.0.0,>=1.18->voila) (5.4.0)\n",
      "Requirement already satisfied: websocket-client in /root/mambaforge/lib/python3.9/site-packages (from jupyter-server<2.0.0,>=1.18->voila) (0.57.0)\n",
      "Requirement already satisfied: importlib-metadata>=3.6 in /root/mambaforge/lib/python3.9/site-packages (from jupyterlab-server<3,>=2.3.0->voila) (4.11.4)\n",
      "Requirement already satisfied: requests in /root/mambaforge/lib/python3.9/site-packages (from jupyterlab-server<3,>=2.3.0->voila) (2.27.1)\n",
      "Requirement already satisfied: babel in /root/mambaforge/lib/python3.9/site-packages (from jupyterlab-server<3,>=2.3.0->voila) (2.10.3)\n",
      "Requirement already satisfied: json5 in /root/mambaforge/lib/python3.9/site-packages (from jupyterlab-server<3,>=2.3.0->voila) (0.9.5)\n",
      "Requirement already satisfied: jsonschema>=3.0.1 in /root/mambaforge/lib/python3.9/site-packages (from jupyterlab-server<3,>=2.3.0->voila) (4.6.1)\n",
      "Requirement already satisfied: pandocfilters>=1.4.1 in /root/mambaforge/lib/python3.9/site-packages (from nbconvert<7,>=6.4.5->voila) (1.5.0)\n",
      "Requirement already satisfied: pygments>=2.4.1 in /root/mambaforge/lib/python3.9/site-packages (from nbconvert<7,>=6.4.5->voila) (2.12.0)\n",
      "Requirement already satisfied: mistune<2,>=0.8.1 in /root/mambaforge/lib/python3.9/site-packages (from nbconvert<7,>=6.4.5->voila) (0.8.4)\n",
      "Requirement already satisfied: MarkupSafe>=2.0 in /root/mambaforge/lib/python3.9/site-packages (from nbconvert<7,>=6.4.5->voila) (2.1.1)\n",
      "Requirement already satisfied: bleach in /root/mambaforge/lib/python3.9/site-packages (from nbconvert<7,>=6.4.5->voila) (5.0.1)\n",
      "Requirement already satisfied: jupyterlab-pygments in /root/mambaforge/lib/python3.9/site-packages (from nbconvert<7,>=6.4.5->voila) (0.2.2)\n",
      "Requirement already satisfied: defusedxml in /root/mambaforge/lib/python3.9/site-packages (from nbconvert<7,>=6.4.5->voila) (0.7.1)\n",
      "Requirement already satisfied: beautifulsoup4 in /root/mambaforge/lib/python3.9/site-packages (from nbconvert<7,>=6.4.5->voila) (4.11.1)\n",
      "Requirement already satisfied: tinycss2 in /root/mambaforge/lib/python3.9/site-packages (from nbconvert<7,>=6.4.5->voila) (1.1.1)\n",
      "Requirement already satisfied: idna>=2.8 in /root/mambaforge/lib/python3.9/site-packages (from anyio<4,>=3.1.0->jupyter-server<2.0.0,>=1.18->voila) (3.3)\n",
      "Requirement already satisfied: sniffio>=1.1 in /root/mambaforge/lib/python3.9/site-packages (from anyio<4,>=3.1.0->jupyter-server<2.0.0,>=1.18->voila) (1.2.0)\n",
      "Requirement already satisfied: zipp>=0.5 in /root/mambaforge/lib/python3.9/site-packages (from importlib-metadata>=3.6->jupyterlab-server<3,>=2.3.0->voila) (3.8.0)\n",
      "Requirement already satisfied: pyrsistent!=0.17.0,!=0.17.1,!=0.17.2,>=0.14.0 in /root/mambaforge/lib/python3.9/site-packages (from jsonschema>=3.0.1->jupyterlab-server<3,>=2.3.0->voila) (0.18.1)\n",
      "Requirement already satisfied: attrs>=17.4.0 in /root/mambaforge/lib/python3.9/site-packages (from jsonschema>=3.0.1->jupyterlab-server<3,>=2.3.0->voila) (18.2.0)\n",
      "Requirement already satisfied: fastjsonschema in /root/mambaforge/lib/python3.9/site-packages (from nbformat>=5.2.0->jupyter-server<2.0.0,>=1.18->voila) (2.15.3)\n",
      "Requirement already satisfied: six>=1.5 in /root/mambaforge/lib/python3.9/site-packages (from python-dateutil>=2.8.2->jupyter-client<8,>=6.1.3->voila) (1.16.0)\n",
      "Requirement already satisfied: ptyprocess in /root/mambaforge/lib/python3.9/site-packages (from terminado>=0.8.3->jupyter-server<2.0.0,>=1.18->voila) (0.7.0)\n",
      "Requirement already satisfied: argon2-cffi-bindings in /root/mambaforge/lib/python3.9/site-packages (from argon2-cffi->jupyter-server<2.0.0,>=1.18->voila) (21.2.0)\n",
      "Requirement already satisfied: pytz>=2015.7 in /root/mambaforge/lib/python3.9/site-packages (from babel->jupyterlab-server<3,>=2.3.0->voila) (2022.1)\n",
      "Requirement already satisfied: soupsieve>1.2 in /root/mambaforge/lib/python3.9/site-packages (from beautifulsoup4->nbconvert<7,>=6.4.5->voila) (2.3.1)\n",
      "Requirement already satisfied: webencodings in /root/mambaforge/lib/python3.9/site-packages (from bleach->nbconvert<7,>=6.4.5->voila) (0.5.1)\n",
      "Requirement already satisfied: pyparsing!=3.0.5,>=2.0.2 in /root/mambaforge/lib/python3.9/site-packages (from packaging->jupyter-server<2.0.0,>=1.18->voila) (3.0.9)\n",
      "Requirement already satisfied: certifi>=2017.4.17 in /root/mambaforge/lib/python3.9/site-packages (from requests->jupyterlab-server<3,>=2.3.0->voila) (2022.6.15)\n",
      "Requirement already satisfied: urllib3<1.27,>=1.21.1 in /root/mambaforge/lib/python3.9/site-packages (from requests->jupyterlab-server<3,>=2.3.0->voila) (1.26.9)\n",
      "Requirement already satisfied: charset-normalizer~=2.0.0 in /root/mambaforge/lib/python3.9/site-packages (from requests->jupyterlab-server<3,>=2.3.0->voila) (2.0.12)\n",
      "Requirement already satisfied: cffi>=1.0.1 in /root/mambaforge/lib/python3.9/site-packages (from argon2-cffi-bindings->argon2-cffi->jupyter-server<2.0.0,>=1.18->voila) (1.15.0)\n",
      "Requirement already satisfied: pycparser in /root/mambaforge/lib/python3.9/site-packages (from cffi>=1.0.1->argon2-cffi-bindings->argon2-cffi->jupyter-server<2.0.0,>=1.18->voila) (2.21)\n",
      "\u001b[33mWARNING: Running pip as the 'root' user can result in broken permissions and conflicting behaviour with the system package manager. It is recommended to use a virtual environment instead: https://pip.pypa.io/warnings/venv\u001b[0m\u001b[33m\n",
      "\u001b[0mEnabling: voila\n",
      "- Writing config: /root/mambaforge/etc/jupyter\n",
      "    - Validating...\n",
      "      voila 0.3.6 \u001b[32mOK\u001b[0m\n"
     ]
    }
   ],
   "source": [
    "!pip install voila\n",
    "!jupyter serverextension enable --sys-prefix voila"
   ]
  },
  {
   "cell_type": "code",
   "execution_count": 5,
   "id": "3344140b-a571-416a-97b5-6e7268cc3123",
   "metadata": {},
   "outputs": [
    {
     "data": {
      "application/vnd.jupyter.widget-view+json": {
       "model_id": "22d7974b31fe485c90aa1570550a4c7b",
       "version_major": 2,
       "version_minor": 0
      },
      "text/plain": [
       "FileUpload(value={}, description='Upload')"
      ]
     },
     "metadata": {},
     "output_type": "display_data"
    }
   ],
   "source": [
    "#hide_output\n",
    "btn_upload = widgets.FileUpload()\n",
    "btn_upload"
   ]
  },
  {
   "cell_type": "code",
   "execution_count": 6,
   "id": "1df12d4a-6f79-4c78-aa64-c04371d48ff2",
   "metadata": {},
   "outputs": [],
   "source": [
    "#hide\n",
    "# For the book, we can't actually click an upload button, so we fake it\n",
    "btn_upload = SimpleNamespace(data = ['images/white-collar_Pat-Roque.jpg'])"
   ]
  },
  {
   "cell_type": "code",
   "execution_count": 7,
   "id": "c95c54a1-0400-4301-a5d2-8b9008884f7c",
   "metadata": {},
   "outputs": [],
   "source": [
    "img = PILImage.create(btn_upload.data[-1])"
   ]
  },
  {
   "cell_type": "code",
   "execution_count": 8,
   "id": "92f558bb-5bdf-419a-b309-02fafc65f038",
   "metadata": {},
   "outputs": [
    {
     "data": {
      "application/vnd.jupyter.widget-view+json": {
       "model_id": "582ca902da3c4e998fe68463f877ef72",
       "version_major": 2,
       "version_minor": 0
      },
      "text/plain": [
       "Output()"
      ]
     },
     "metadata": {},
     "output_type": "display_data"
    }
   ],
   "source": [
    "#hide_output\n",
    "out_pl = widgets.Output()\n",
    "out_pl.clear_output()\n",
    "with out_pl: display(img.to_thumb(128,128))\n",
    "out_pl"
   ]
  },
  {
   "cell_type": "code",
   "execution_count": 11,
   "id": "51177da9-263f-431f-ab98-af1fb225a2f6",
   "metadata": {},
   "outputs": [
    {
     "data": {
      "text/plain": [
       "(#1) [Path('export.pkl')]"
      ]
     },
     "execution_count": 11,
     "metadata": {},
     "output_type": "execute_result"
    }
   ],
   "source": [
    "path = Path()\n",
    "path.ls(file_exts='.pkl')"
   ]
  },
  {
   "cell_type": "code",
   "execution_count": 12,
   "id": "3e0dc26c-1f0e-4521-9e85-57425ff14326",
   "metadata": {},
   "outputs": [],
   "source": [
    "learn_inf = load_learner(path/'export.pkl')"
   ]
  },
  {
   "cell_type": "code",
   "execution_count": 13,
   "id": "008bbca0-158b-4e97-b771-3d6d71b55bb5",
   "metadata": {},
   "outputs": [
    {
     "data": {
      "text/html": [
       "\n",
       "<style>\n",
       "    /* Turns off some styling */\n",
       "    progress {\n",
       "        /* gets rid of default border in Firefox and Opera. */\n",
       "        border: none;\n",
       "        /* Needs to be in here for Safari polyfill so background images work as expected. */\n",
       "        background-size: auto;\n",
       "    }\n",
       "    .progress-bar-interrupted, .progress-bar-interrupted::-webkit-progress-bar {\n",
       "        background: #F44336;\n",
       "    }\n",
       "</style>\n"
      ],
      "text/plain": [
       "<IPython.core.display.HTML object>"
      ]
     },
     "metadata": {},
     "output_type": "display_data"
    },
    {
     "data": {
      "text/html": [],
      "text/plain": [
       "<IPython.core.display.HTML object>"
      ]
     },
     "metadata": {},
     "output_type": "display_data"
    }
   ],
   "source": [
    "pred,pred_idx,probs = learn_inf.predict(img)"
   ]
  },
  {
   "cell_type": "code",
   "execution_count": 14,
   "id": "c6371210-be04-4103-9718-4cc45ccffe4b",
   "metadata": {},
   "outputs": [
    {
     "data": {
      "application/vnd.jupyter.widget-view+json": {
       "model_id": "768498d9609742baa4b3b84bbaedc298",
       "version_major": 2,
       "version_minor": 0
      },
      "text/plain": [
       "Label(value='Prediction: grizzly; Probability: 0.9941')"
      ]
     },
     "metadata": {},
     "output_type": "display_data"
    }
   ],
   "source": [
    "#hide_output\n",
    "lbl_pred = widgets.Label()\n",
    "lbl_pred.value = f'Prediction: {pred}; Probability: {probs[pred_idx]:.04f}'\n",
    "lbl_pred"
   ]
  },
  {
   "cell_type": "code",
   "execution_count": 15,
   "id": "642eb46e-108e-48c2-bca3-e769af744304",
   "metadata": {},
   "outputs": [
    {
     "data": {
      "application/vnd.jupyter.widget-view+json": {
       "model_id": "64469cf367b7421794601b30d224398f",
       "version_major": 2,
       "version_minor": 0
      },
      "text/plain": [
       "Button(description='Classify', style=ButtonStyle())"
      ]
     },
     "metadata": {},
     "output_type": "display_data"
    }
   ],
   "source": [
    "#hide_output\n",
    "btn_run = widgets.Button(description='Classify')\n",
    "btn_run"
   ]
  },
  {
   "cell_type": "code",
   "execution_count": 16,
   "id": "d0bfaf5f-71e9-40df-841a-deb44501d0df",
   "metadata": {},
   "outputs": [],
   "source": [
    "def on_click_classify(change):\n",
    "    img = PILImage.create(btn_upload.data[-1])\n",
    "    out_pl.clear_output()\n",
    "    with out_pl: display(img.to_thumb(128,128))\n",
    "    pred,pred_idx,probs = learn_inf.predict(img)\n",
    "    lbl_pred.value = f'Prediction: {pred}; Probability: {probs[pred_idx]:.04f}'\n",
    "\n",
    "btn_run.on_click(on_click_classify)"
   ]
  },
  {
   "cell_type": "code",
   "execution_count": 17,
   "id": "ac00fa27-091d-4a92-b0df-9cdbe6a1692b",
   "metadata": {},
   "outputs": [],
   "source": [
    "#hide\n",
    "#Putting back btn_upload to a widget for next cell\n",
    "btn_upload = widgets.FileUpload()"
   ]
  },
  {
   "cell_type": "code",
   "execution_count": 18,
   "id": "969d608a-fd9d-439b-a141-38dd33987c1a",
   "metadata": {},
   "outputs": [
    {
     "data": {
      "application/vnd.jupyter.widget-view+json": {
       "model_id": "105763e3f7ff44e7a01729a349d45a15",
       "version_major": 2,
       "version_minor": 0
      },
      "text/plain": [
       "VBox(children=(Label(value='Select your bear!'), FileUpload(value={}, description='Upload'), Button(descriptio…"
      ]
     },
     "metadata": {},
     "output_type": "display_data"
    }
   ],
   "source": [
    "#hide_output\n",
    "VBox([widgets.Label('Select your bear!'), \n",
    "      btn_upload, btn_run, out_pl, lbl_pred])"
   ]
  }
 ],
 "metadata": {
  "kernelspec": {
   "display_name": "Python 3 (ipykernel)",
   "language": "python",
   "name": "python3"
  },
  "language_info": {
   "codemirror_mode": {
    "name": "ipython",
    "version": 3
   },
   "file_extension": ".py",
   "mimetype": "text/x-python",
   "name": "python",
   "nbconvert_exporter": "python",
   "pygments_lexer": "ipython3",
   "version": "3.9.13"
  }
 },
 "nbformat": 4,
 "nbformat_minor": 5
}
